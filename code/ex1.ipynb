{
 "cells": [
  {
   "cell_type": "code",
   "execution_count": 4,
   "outputs": [],
   "source": [
    "import torch\n",
    "import torchvision\n",
    "import torchvision.transforms as transforms\n",
    "import torch.nn as nn\n",
    "import torch.nn.functional as F\n",
    "from torch.utils.data import DataLoader, Dataset\n",
    "from torch.utils.tensorboard import SummaryWriter\n",
    "from torchvision.utils import save_image\n",
    "from tqdm import tqdm\n",
    "# import torch.backends.cudnn as cudnn\n",
    "import sys\n",
    "from datetime import datetime\n",
    "from model import *\n",
    "from models.ae_miao_chromosome import *\n",
    "from utils import *\n",
    "from models import resnet_orig\n",
    "\n",
    "num_classes = 10\n",
    "batch_size = 32\n",
    "classes = ('plane', 'car', 'bird', 'cat', 'deer', 'dog', 'frog', 'horse', 'ship', 'truck')\n",
    "cifar10_train = torchvision.datasets.CIFAR10(root=\"../data/cifar10\", train=True, download=False,\n",
    "                                             transform=transform_train_cifar_miao)\n",
    "cifar10_test = torchvision.datasets.CIFAR10(root=\"../data/cifar10\", train=False, download=False,\n",
    "                                            transform=transform_test_cifar_miao)\n",
    "trainloader_cifar10 = torch.utils.data.DataLoader(cifar10_train, batch_size=batch_size, shuffle=True,\n",
    "                                                  num_workers=0)\n",
    "testloader_cifar10 = torch.utils.data.DataLoader(cifar10_test, batch_size=batch_size, shuffle=True, num_workers=0)"
   ],
   "metadata": {
    "collapsed": false,
    "pycharm": {
     "name": "#%%\n"
    }
   }
  },
  {
   "cell_type": "code",
   "execution_count": null,
   "outputs": [],
   "source": [
    "import torch\n",
    "import socket\n",
    "for batch_idx,(data,label) in enumerate(trainloader_cifar10):\n",
    "    data=data\n",
    "    label=label\n",
    "    imshow(data,label)"
   ],
   "metadata": {
    "collapsed": false,
    "pycharm": {
     "name": "#%%\n",
     "is_executing": true
    }
   }
  },
  {
   "cell_type": "code",
   "execution_count": null,
   "outputs": [],
   "source": [],
   "metadata": {
    "collapsed": false,
    "pycharm": {
     "name": "#%%\n"
    }
   }
  }
 ],
 "metadata": {
  "kernelspec": {
   "display_name": "Python 3",
   "language": "python",
   "name": "python3"
  },
  "language_info": {
   "codemirror_mode": {
    "name": "ipython",
    "version": 2
   },
   "file_extension": ".py",
   "mimetype": "text/x-python",
   "name": "python",
   "nbconvert_exporter": "python",
   "pygments_lexer": "ipython2",
   "version": "2.7.6"
  }
 },
 "nbformat": 4,
 "nbformat_minor": 0
}